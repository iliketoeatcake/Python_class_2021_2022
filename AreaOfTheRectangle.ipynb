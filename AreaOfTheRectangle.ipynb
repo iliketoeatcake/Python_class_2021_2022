{
 "cells": [
  {
   "cell_type": "code",
   "execution_count": 3,
   "id": "98f92a50",
   "metadata": {},
   "outputs": [],
   "source": [
    "def calculateArea():\n",
    "    length=input('Give me a number.')\n",
    "    length=int(length)\n",
    "    width=input('Give me another number.')\n",
    "    width=int(width)\n",
    "    area=length*width\n",
    "    print('The area is', area)"
   ]
  },
  {
   "cell_type": "code",
   "execution_count": 4,
   "id": "da66aa6e",
   "metadata": {},
   "outputs": [
    {
     "name": "stdout",
     "output_type": "stream",
     "text": [
      "Give me a number.69694684969809\n",
      "Give me another number.198379827398793179\n",
      "The area is 13826019574923974621556650132811\n"
     ]
    }
   ],
   "source": [
    "calculateArea()"
   ]
  }
 ],
 "metadata": {
  "kernelspec": {
   "display_name": "Python 3",
   "language": "python",
   "name": "python3"
  },
  "language_info": {
   "codemirror_mode": {
    "name": "ipython",
    "version": 3
   },
   "file_extension": ".py",
   "mimetype": "text/x-python",
   "name": "python",
   "nbconvert_exporter": "python",
   "pygments_lexer": "ipython3",
   "version": "3.8.8"
  }
 },
 "nbformat": 4,
 "nbformat_minor": 5
}
