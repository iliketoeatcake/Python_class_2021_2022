{
 "cells": [
  {
   "cell_type": "code",
   "execution_count": 3,
   "id": "76c95c8f",
   "metadata": {},
   "outputs": [],
   "source": [
    "def miles(speed,time):\n",
    "    distance=speed*time\n",
    "    return(distance)"
   ]
  },
  {
   "cell_type": "code",
   "execution_count": 4,
   "id": "e5c1478f",
   "metadata": {},
   "outputs": [
    {
     "data": {
      "text/plain": [
       "10"
      ]
     },
     "execution_count": 4,
     "metadata": {},
     "output_type": "execute_result"
    }
   ],
   "source": [
    "miles(5,2)"
   ]
  }
 ],
 "metadata": {
  "kernelspec": {
   "display_name": "Python 3",
   "language": "python",
   "name": "python3"
  },
  "language_info": {
   "codemirror_mode": {
    "name": "ipython",
    "version": 3
   },
   "file_extension": ".py",
   "mimetype": "text/x-python",
   "name": "python",
   "nbconvert_exporter": "python",
   "pygments_lexer": "ipython3",
   "version": "3.8.8"
  }
 },
 "nbformat": 4,
 "nbformat_minor": 5
}
