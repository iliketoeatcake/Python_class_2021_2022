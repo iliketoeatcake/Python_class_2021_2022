{
 "cells": [
  {
   "cell_type": "code",
   "execution_count": 2,
   "id": "76c95c8f",
   "metadata": {},
   "outputs": [],
   "source": [
    "def miles(speed,time):\n",
    "    speed=input('give me a speed.')\n",
    "    speed=int(speed)\n",
    "    time=input('give me a time.')\n",
    "    time=int(time)\n",
    "    distance=speed*time\n",
    "    return(distance)"
   ]
  },
  {
   "cell_type": "code",
   "execution_count": 3,
   "id": "e5c1478f",
   "metadata": {},
   "outputs": [
    {
     "name": "stdout",
     "output_type": "stream",
     "text": [
      "give me a speed.9\n",
      "give me a time.9\n"
     ]
    },
    {
     "data": {
      "text/plain": [
       "81"
      ]
     },
     "execution_count": 3,
     "metadata": {},
     "output_type": "execute_result"
    }
   ],
   "source": [
    "miles(5,2)"
   ]
  }
 ],
 "metadata": {
  "kernelspec": {
   "display_name": "Python 3",
   "language": "python",
   "name": "python3"
  },
  "language_info": {
   "codemirror_mode": {
    "name": "ipython",
    "version": 3
   },
   "file_extension": ".py",
   "mimetype": "text/x-python",
   "name": "python",
   "nbconvert_exporter": "python",
   "pygments_lexer": "ipython3",
   "version": "3.8.8"
  }
 },
 "nbformat": 4,
 "nbformat_minor": 5
}
