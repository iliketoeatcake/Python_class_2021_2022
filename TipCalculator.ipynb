{
 "cells": [
  {
   "cell_type": "code",
   "execution_count": 14,
   "id": "103fa05c",
   "metadata": {},
   "outputs": [],
   "source": [
    "def Tip():\n",
    "    DP=input('How much does the dinner cost?')\n",
    "    DP=int(DP)\n",
    "    TP=input('How much is the tip percentage?')\n",
    "    TP=int(TP)\n",
    "    TP=15/100\n",
    "    Tip=DP*TP\n",
    "    print(DP+Tip)"
   ]
  },
  {
   "cell_type": "code",
   "execution_count": 15,
   "id": "090c78d2",
   "metadata": {},
   "outputs": [
    {
     "name": "stdout",
     "output_type": "stream",
     "text": [
      "How much does the dinner cost?100\n",
      "How much is the tip percentage?5\n",
      "115.0\n"
     ]
    }
   ],
   "source": [
    "Tip()"
   ]
  }
 ],
 "metadata": {
  "kernelspec": {
   "display_name": "Python 3",
   "language": "python",
   "name": "python3"
  },
  "language_info": {
   "codemirror_mode": {
    "name": "ipython",
    "version": 3
   },
   "file_extension": ".py",
   "mimetype": "text/x-python",
   "name": "python",
   "nbconvert_exporter": "python",
   "pygments_lexer": "ipython3",
   "version": "3.8.8"
  }
 },
 "nbformat": 4,
 "nbformat_minor": 5
}
