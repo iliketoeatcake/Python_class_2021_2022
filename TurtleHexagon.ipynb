{
 "cells": [
  {
   "cell_type": "code",
   "execution_count": 1,
   "id": "2151b15a",
   "metadata": {},
   "outputs": [],
   "source": [
    "import turtle\n",
    "\n",
    "bruce = turtle.Turtle()\n",
    "bruce.shape(\"turtle\")\n",
    "bruce.color(\"blue\")\n",
    "\n",
    "def draw_hexagon():\n",
    "    for i in range(6):\n",
    "        bruce.fd(25)\n",
    "        bruce.rt(60)\n",
    "    bruce.fd(10)\n",
    " \n",
    "draw_hexagon()"
   ]
  }
 ],
 "metadata": {
  "kernelspec": {
   "display_name": "Python 3",
   "language": "python",
   "name": "python3"
  },
  "language_info": {
   "codemirror_mode": {
    "name": "ipython",
    "version": 3
   },
   "file_extension": ".py",
   "mimetype": "text/x-python",
   "name": "python",
   "nbconvert_exporter": "python",
   "pygments_lexer": "ipython3",
   "version": "3.8.8"
  }
 },
 "nbformat": 4,
 "nbformat_minor": 5
}
